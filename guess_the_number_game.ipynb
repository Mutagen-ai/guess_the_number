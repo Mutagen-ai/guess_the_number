{
 "cells": [
  {
   "cell_type": "markdown",
   "id": "c7552329-5827-4759-8411-956a4af8b4d1",
   "metadata": {},
   "source": [
    "# ===== Guess The Number Game ====="
   ]
  },
  {
   "cell_type": "markdown",
   "id": "b9f6f431-fc38-4535-9ca7-c10e38e0ff4e",
   "metadata": {},
   "source": [
    "- Conditional Statements/Control Flow/Logical Statements\n",
    "- For loop\n",
    "- Functions"
   ]
  },
  {
   "cell_type": "markdown",
   "id": "f14c391e-be8b-49d0-8f9f-158391939047",
   "metadata": {},
   "source": [
    "## Conditional Statements"
   ]
  },
  {
   "cell_type": "markdown",
   "id": "b82125f8-5c68-4b06-bb09-4080714e7d82",
   "metadata": {},
   "source": [
    "Let's state the conditions\n",
    "\n",
    "0 - 12 > Child\n",
    "\n",
    "13 - 19 > Teens\n",
    "\n",
    "20 - 35 > Young adult or Youth\n",
    "\n",
    "36 - 50 > Adult or Middle aged\n",
    "\n",
    "51 - Above > Senior citizen or Elderly"
   ]
  },
  {
   "cell_type": "code",
   "execution_count": null,
   "id": "dea82cc2-51f9-4f8a-8543-b2a735a8c3fa",
   "metadata": {},
   "outputs": [],
   "source": []
  },
  {
   "cell_type": "code",
   "execution_count": 25,
   "id": "6f6b9b98-b0b1-41f4-9538-71c39b91d44a",
   "metadata": {},
   "outputs": [
    {
     "name": "stdout",
     "output_type": "stream",
     "text": [
      "Teens\n"
     ]
    }
   ],
   "source": [
    "\n",
    "age = 15\n",
    "if 0 <= age <= 12:\n",
    "    print(\"Child\")\n",
    "elif 13 <= age <= 19:\n",
    "    print(\"Teens\")\n",
    "elif 20 <= age <= 35:\n",
    "    print(\"Young adult or Youth\")\n",
    "elif 36 <= age <= 50:\n",
    "    print(\"Adult or Middle aged\")\n",
    "else:\n",
    "    print(\"Senior citizen or Elderly\")"
   ]
  },
  {
   "cell_type": "markdown",
   "id": "3078a27b-8905-4ad7-b10a-fcc0dc6ad695",
   "metadata": {},
   "source": [
    "## For Loops"
   ]
  },
  {
   "cell_type": "code",
   "execution_count": null,
   "id": "61fc7610-9e84-4600-9005-8d6c5d18f77a",
   "metadata": {},
   "outputs": [],
   "source": []
  },
  {
   "cell_type": "code",
   "execution_count": 30,
   "id": "80832bb6-88cc-43b3-a59a-8caa7786fa4e",
   "metadata": {},
   "outputs": [],
   "source": [
    "wish_list = [\n",
    "    \"Job\", \n",
    "    \"Wife\", \n",
    "    \"Kid\", \n",
    "    \"Dollars\", \n",
    "    \"Mansion\", \n",
    "    \"Scholarship\", \n",
    "    \"Cat\", \n",
    "    \"Vacation\", \n",
    "    \"Travel\", \n",
    "    \"Private Jet\", \n",
    "    \"Peace\"\n",
    "    \n",
    "]"
   ]
  },
  {
   "cell_type": "code",
   "execution_count": 34,
   "id": "eb4b4f4d-1a71-49ef-b1ee-c74b7cd777a9",
   "metadata": {},
   "outputs": [
    {
     "name": "stdout",
     "output_type": "stream",
     "text": [
      "['Job', 'Wife', 'Kid', 'Dollars', 'Mansion', 'Scholarship', 'Cat', 'Vacation', 'Travel', 'Private Jet', 'Peace']\n"
     ]
    }
   ],
   "source": [
    "print(wish_list)"
   ]
  },
  {
   "cell_type": "code",
   "execution_count": 38,
   "id": "19ff28a8-d860-467e-bfd6-0050d2413b8f",
   "metadata": {},
   "outputs": [
    {
     "name": "stdout",
     "output_type": "stream",
     "text": [
      "Job\n",
      "Wife\n",
      "Peace\n"
     ]
    }
   ],
   "source": [
    "print(wish_list[0])\n",
    "print(wish_list[1])\n",
    "print(wish_list[10])"
   ]
  },
  {
   "cell_type": "code",
   "execution_count": 44,
   "id": "17f55f60-f3fb-498b-b62a-6dc11e750b5c",
   "metadata": {},
   "outputs": [
    {
     "name": "stdout",
     "output_type": "stream",
     "text": [
      "Job\n",
      "Wife\n",
      "Kid\n",
      "Dollars\n",
      "Mansion\n",
      "Scholarship\n",
      "Cat\n",
      "Vacation\n",
      "Travel\n",
      "Private Jet\n",
      "Peace\n"
     ]
    }
   ],
   "source": [
    "for wish in wish_list:\n",
    "    print(wish)"
   ]
  },
  {
   "cell_type": "markdown",
   "id": "e91961a1-a37b-4f8c-be27-1be5a0e2c0c7",
   "metadata": {},
   "source": [
    "## Functions\n",
    "- View or print\n",
    "- Withdraw or return"
   ]
  },
  {
   "cell_type": "code",
   "execution_count": 48,
   "id": "af65db1d-2fe7-4a04-aa36-c27b0bc3c834",
   "metadata": {},
   "outputs": [
    {
     "name": "stdout",
     "output_type": "stream",
     "text": [
      "Hello Junior, hope you are enjoying learning Python\n"
     ]
    }
   ],
   "source": [
    "print(\"Hello Junior, hope you are enjoying learning Python\")"
   ]
  },
  {
   "cell_type": "code",
   "execution_count": 50,
   "id": "e7050164-1bcf-4dd2-8d4a-ded1da6a7320",
   "metadata": {},
   "outputs": [
    {
     "name": "stdout",
     "output_type": "stream",
     "text": [
      "Hello Rotondwa, hope you are enjoying learning Python\n"
     ]
    }
   ],
   "source": [
    "print(\"Hello Rotondwa, hope you are enjoying learning Python\")"
   ]
  },
  {
   "cell_type": "code",
   "execution_count": 56,
   "id": "ed5db54f-55cd-4cd1-8d00-e703a3fdbe01",
   "metadata": {},
   "outputs": [],
   "source": [
    "def greeting(name):\n",
    "    print(\"Hello,\", name, \"hope you are enjoying learning Python\")"
   ]
  },
  {
   "cell_type": "code",
   "execution_count": 58,
   "id": "27e520fe-5770-4b98-beb9-ddec0db7930d",
   "metadata": {},
   "outputs": [
    {
     "name": "stdout",
     "output_type": "stream",
     "text": [
      "Hello, Beimnet hope you are enjoying learning Python\n"
     ]
    }
   ],
   "source": [
    "greeting(\"Beimnet\")"
   ]
  },
  {
   "cell_type": "code",
   "execution_count": 60,
   "id": "53e1b74e-684d-4352-b96f-9e34b499cbb2",
   "metadata": {},
   "outputs": [
    {
     "name": "stdout",
     "output_type": "stream",
     "text": [
      "Hello, Samuel hope you are enjoying learning Python\n"
     ]
    }
   ],
   "source": [
    "greeting(\"Samuel\")"
   ]
  },
  {
   "cell_type": "code",
   "execution_count": 62,
   "id": "cb3133b3-7eac-4e5a-af67-c48e25f57e84",
   "metadata": {},
   "outputs": [],
   "source": [
    "list_of_names = [\n",
    "    \"Beimnet\",\n",
    "    \"Samuel\",\n",
    "    \"Junior\",\n",
    "    \"Rose\",\n",
    "    \"Philex\",\n",
    "    \"Glory\",\n",
    "    \"Mutagen\"\n",
    "    \n",
    "    \n",
    "]"
   ]
  },
  {
   "cell_type": "code",
   "execution_count": 68,
   "id": "a0610019-1504-4903-a1db-1fc3e735456b",
   "metadata": {},
   "outputs": [
    {
     "name": "stdout",
     "output_type": "stream",
     "text": [
      "Hello, Beimnet hope you are enjoying learning Python\n",
      "Hello, Samuel hope you are enjoying learning Python\n",
      "Hello, Junior hope you are enjoying learning Python\n",
      "Hello, Rose hope you are enjoying learning Python\n",
      "Hello, Philex hope you are enjoying learning Python\n",
      "Hello, Glory hope you are enjoying learning Python\n",
      "Hello, Mutagen hope you are enjoying learning Python\n"
     ]
    }
   ],
   "source": [
    "for name in list_of_names:\n",
    "    greeting(name)"
   ]
  },
  {
   "cell_type": "code",
   "execution_count": 70,
   "id": "fd9606ee-97cc-42f7-946b-1749abdbaf1a",
   "metadata": {},
   "outputs": [
    {
     "name": "stdout",
     "output_type": "stream",
     "text": [
      "Hello, Mutagen hope you are enjoying learning Python\n"
     ]
    }
   ],
   "source": [
    "abc = greeting(name)"
   ]
  },
  {
   "cell_type": "code",
   "execution_count": 74,
   "id": "cbea851f-12ac-4421-95c6-b389fbcd1f5a",
   "metadata": {},
   "outputs": [],
   "source": [
    "def addition(a,b):\n",
    "    added = a + b\n",
    "    return added"
   ]
  },
  {
   "cell_type": "code",
   "execution_count": 80,
   "id": "a0fb71ea-8844-4db0-982a-2374a8dc7450",
   "metadata": {},
   "outputs": [
    {
     "data": {
      "text/plain": [
       "15"
      ]
     },
     "execution_count": 80,
     "metadata": {},
     "output_type": "execute_result"
    }
   ],
   "source": [
    "add_numbers = addition(7, 8)\n",
    "add_numbers"
   ]
  },
  {
   "cell_type": "markdown",
   "id": "95f46791-49c8-4b33-a712-cc35ead328fe",
   "metadata": {},
   "source": [
    "## Game on, Let's Play v1"
   ]
  },
  {
   "cell_type": "code",
   "execution_count": 85,
   "id": "3da021eb-b4f9-41d8-81f2-af7cc2bc2791",
   "metadata": {},
   "outputs": [
    {
     "name": "stdout",
     "output_type": "stream",
     "text": [
      "\n",
      "***** Guess the Game *****\n"
     ]
    }
   ],
   "source": [
    "print()\n",
    "print(\"***** Guess the Game *****\")"
   ]
  },
  {
   "cell_type": "code",
   "execution_count": 87,
   "id": "8d7e197f-3ded-47ec-857b-5a6a054da844",
   "metadata": {},
   "outputs": [
    {
     "name": "stdout",
     "output_type": "stream",
     "text": [
      "\n",
      "***** Guess the Game *****\n"
     ]
    }
   ],
   "source": [
    "print(\"\\n***** Guess the Game *****\")"
   ]
  },
  {
   "cell_type": "code",
   "execution_count": 149,
   "id": "6b66aef0-dc52-4038-8cda-2cfa6346ac6f",
   "metadata": {},
   "outputs": [],
   "source": [
    "secret_number = 7 # number between 1 - 10"
   ]
  },
  {
   "cell_type": "code",
   "execution_count": 151,
   "id": "ef35f0a6-075c-4bbe-bd38-c718fa2a1a59",
   "metadata": {},
   "outputs": [],
   "source": [
    "guess = 5"
   ]
  },
  {
   "cell_type": "code",
   "execution_count": 153,
   "id": "7b0652a8-427a-4ded-9259-0e87a34dbdc8",
   "metadata": {},
   "outputs": [
    {
     "name": "stdout",
     "output_type": "stream",
     "text": [
      "Oops, low!!! Guess a higher number\n"
     ]
    }
   ],
   "source": [
    "if guess == secret_number:\n",
    "    print(\"Congratulations!!! You guessed right!!!\")\n",
    "elif guess > secret_number:\n",
    "    print(\"Oops, high!!! Guess a lower number\")\n",
    "else:\n",
    "    print(\"Oops, low!!! Guess a higher number\")"
   ]
  },
  {
   "cell_type": "markdown",
   "id": "e2670eaa-845b-448c-b8ae-edc76fed1733",
   "metadata": {},
   "source": [
    "### Limitations of the above version of the game\n",
    "- not fun\n",
    "- having to manually repeat the number\n",
    "- the secret number is not secret"
   ]
  },
  {
   "cell_type": "markdown",
   "id": "27ecc07c-f57f-4f64-87c3-236d9c8ffbb3",
   "metadata": {},
   "source": [
    "### Make the secret number secret"
   ]
  },
  {
   "cell_type": "markdown",
   "id": "6fcd5954-5899-489d-8204-5d87a5cf8bc9",
   "metadata": {},
   "source": [
    "## Game on, Let's Play v2"
   ]
  },
  {
   "cell_type": "code",
   "execution_count": 141,
   "id": "1f945c30-284d-4cda-9c58-2b15103119af",
   "metadata": {},
   "outputs": [],
   "source": [
    "import random"
   ]
  },
  {
   "cell_type": "code",
   "execution_count": 143,
   "id": "282c18b6-6900-4037-810c-d4591989f414",
   "metadata": {},
   "outputs": [],
   "source": [
    "secret_number = random.randint(1, 10)"
   ]
  },
  {
   "cell_type": "code",
   "execution_count": 171,
   "id": "7353a193-3d8a-4f81-bfb4-0dbfc30c2d73",
   "metadata": {},
   "outputs": [
    {
     "data": {
      "text/plain": [
       "7"
      ]
     },
     "execution_count": 171,
     "metadata": {},
     "output_type": "execute_result"
    }
   ],
   "source": [
    "secret_number"
   ]
  },
  {
   "cell_type": "code",
   "execution_count": 167,
   "id": "10069306-cb13-4c46-8e91-b0da00838757",
   "metadata": {},
   "outputs": [],
   "source": [
    "guess = 7"
   ]
  },
  {
   "cell_type": "code",
   "execution_count": 169,
   "id": "15980aba-0e7d-4061-a900-f18675d35145",
   "metadata": {},
   "outputs": [
    {
     "name": "stdout",
     "output_type": "stream",
     "text": [
      "Congratulations!!! You guessed right!!!\n"
     ]
    }
   ],
   "source": [
    "if guess == secret_number:\n",
    "    print(\"Congratulations!!! You guessed right!!!\")\n",
    "elif guess > secret_number:\n",
    "    print(\"Oops, high!!! Guess a lower number\")\n",
    "else:\n",
    "    print(\"Oops, low!!! Guess a higher number\")"
   ]
  },
  {
   "cell_type": "markdown",
   "id": "c83454cd-0b5d-4375-a16f-5a23a6ca130a",
   "metadata": {},
   "source": [
    "- Create different functions for different sections of the game\n",
    "- Create 1 function that contains the entire game"
   ]
  },
  {
   "cell_type": "code",
   "execution_count": 174,
   "id": "7aa1333c-73bf-4f1b-a0a1-ba2a5c8761c2",
   "metadata": {},
   "outputs": [],
   "source": [
    "name = \"Andrew\"\n",
    "age = 45\n",
    "country = \"South Africa\""
   ]
  },
  {
   "cell_type": "code",
   "execution_count": 176,
   "id": "e13681df-819b-4996-9cdc-3477c1d6343d",
   "metadata": {},
   "outputs": [
    {
     "name": "stdout",
     "output_type": "stream",
     "text": [
      "Andrew\n",
      "45\n",
      "South Africa\n"
     ]
    }
   ],
   "source": [
    "print(name)\n",
    "print(age)\n",
    "print(country)"
   ]
  },
  {
   "cell_type": "code",
   "execution_count": null,
   "id": "9d2e33b5-353f-42d6-8ea2-d10ab63461e0",
   "metadata": {},
   "outputs": [],
   "source": []
  },
  {
   "cell_type": "code",
   "execution_count": 178,
   "id": "8574d60e-3a4d-45ed-b68c-ed957d857cb7",
   "metadata": {},
   "outputs": [
    {
     "name": "stdin",
     "output_type": "stream",
     "text": [
      " Chigozie\n",
      " 23\n",
      " Kenya\n"
     ]
    }
   ],
   "source": [
    "name = input()\n",
    "age = input()\n",
    "country = input()"
   ]
  },
  {
   "cell_type": "code",
   "execution_count": null,
   "id": "c15ceee9-52e6-4d66-a487-449620e1b15e",
   "metadata": {},
   "outputs": [],
   "source": []
  },
  {
   "cell_type": "markdown",
   "id": "3bdcd09b-c096-4674-a36f-db728bccc7ed",
   "metadata": {},
   "source": [
    "## Game on, Let's Play v3"
   ]
  },
  {
   "cell_type": "code",
   "execution_count": 11,
   "id": "2c15215f-a09b-4aa5-a008-e091b4f0a35b",
   "metadata": {},
   "outputs": [
    {
     "name": "stdout",
     "output_type": "stream",
     "text": [
      "\n",
      "===== Guess the Number Game =====\n",
      "\n",
      "I'm thinking of a number between 1 - 10\n",
      "\n",
      "Try guess the number\n",
      "\n"
     ]
    },
    {
     "name": "stdin",
     "output_type": "stream",
     "text": [
      " 5\n"
     ]
    },
    {
     "name": "stdout",
     "output_type": "stream",
     "text": [
      "Oops, low!!! Guess a higher number\n"
     ]
    }
   ],
   "source": [
    "import random\n",
    "\n",
    "print(\"\\n===== Guess the Number Game =====\")\n",
    "print(\"\\nI'm thinking of a number between 1 - 10\")\n",
    "print(\"\\nTry guess the number\")\n",
    "\n",
    "secret_number = random.randint(1, 10)\n",
    "\n",
    "print()\n",
    "guess = int(input())\n",
    "\n",
    "if guess == secret_number:\n",
    "    print(\"Congratulations!!! You guessed right!!!\")\n",
    "elif guess > secret_number:\n",
    "    print(\"Oops, high!!! Guess a lower number\")\n",
    "else:\n",
    "    print(\"Oops, low!!! Guess a higher number\")"
   ]
  },
  {
   "cell_type": "markdown",
   "id": "aac9509e-64bb-4762-8430-ee7b5821a4d5",
   "metadata": {},
   "source": []
  },
  {
   "cell_type": "code",
   "execution_count": 18,
   "id": "6d4150ca-618b-486d-bc50-a7c5f5e3ed8c",
   "metadata": {},
   "outputs": [
    {
     "name": "stdout",
     "output_type": "stream",
     "text": [
      "1\n",
      "2\n",
      "3\n",
      "4\n",
      "5\n",
      "6\n",
      "7\n",
      "8\n",
      "9\n",
      "10\n"
     ]
    }
   ],
   "source": [
    "list_of_num = [1, 2, 3, 4, 5, 6, 7, 8, 9, 10]\n",
    "\n",
    "for number in list_of_num:\n",
    "    print(number)"
   ]
  },
  {
   "cell_type": "code",
   "execution_count": 20,
   "id": "d3383c0a-293e-431c-835e-2ee6b8309622",
   "metadata": {},
   "outputs": [
    {
     "name": "stdout",
     "output_type": "stream",
     "text": [
      "1\n",
      "2\n",
      "3\n",
      "4\n",
      "5\n",
      "6\n",
      "7\n",
      "8\n",
      "9\n",
      "10\n"
     ]
    }
   ],
   "source": [
    "for num in range(1, 11):\n",
    "    print(num)"
   ]
  },
  {
   "cell_type": "code",
   "execution_count": null,
   "id": "e3c1eaec-ddfb-44b5-94e3-55a0e7ac0a5e",
   "metadata": {},
   "outputs": [],
   "source": []
  },
  {
   "cell_type": "markdown",
   "id": "e560e90c-9bb1-419b-a7d1-0e9ac0277cba",
   "metadata": {},
   "source": [
    "## Game on, Let's Play v4"
   ]
  },
  {
   "cell_type": "code",
   "execution_count": 26,
   "id": "d2a24426-42dc-49c3-9334-57f2cb092015",
   "metadata": {},
   "outputs": [
    {
     "name": "stdout",
     "output_type": "stream",
     "text": [
      "\n",
      "===== Guess the Number Game =====\n",
      "\n",
      "I'm thinking of a number between 1 - 10\n",
      "\n",
      "Try guess the number\n",
      "1\n",
      "\n"
     ]
    },
    {
     "name": "stdin",
     "output_type": "stream",
     "text": [
      " 9\n"
     ]
    },
    {
     "name": "stdout",
     "output_type": "stream",
     "text": [
      "Oops, high!!! Guess a lower number\n",
      "\n"
     ]
    },
    {
     "name": "stdin",
     "output_type": "stream",
     "text": [
      " 4\n"
     ]
    },
    {
     "name": "stdout",
     "output_type": "stream",
     "text": [
      "Oops, high!!! Guess a lower number\n",
      "\n"
     ]
    },
    {
     "name": "stdin",
     "output_type": "stream",
     "text": [
      " 3\n"
     ]
    },
    {
     "name": "stdout",
     "output_type": "stream",
     "text": [
      "Oops, high!!! Guess a lower number\n",
      "\n"
     ]
    },
    {
     "name": "stdin",
     "output_type": "stream",
     "text": [
      " 2\n"
     ]
    },
    {
     "name": "stdout",
     "output_type": "stream",
     "text": [
      "Oops, high!!! Guess a lower number\n",
      "\n"
     ]
    },
    {
     "name": "stdin",
     "output_type": "stream",
     "text": [
      " 1\n"
     ]
    },
    {
     "name": "stdout",
     "output_type": "stream",
     "text": [
      "Congratulations!!! You guessed right!!!\n"
     ]
    }
   ],
   "source": [
    "print(\"\\n===== Guess the Number Game =====\")\n",
    "print(\"\\nI'm thinking of a number between 1 - 10\")\n",
    "print(\"\\nTry guess the number\")\n",
    "\n",
    "secret_number = random.randint(1, 10)\n",
    "\n",
    "print(secret_number)\n",
    "\n",
    "\n",
    "for attempt in range(1, 6):\n",
    "    print()\n",
    "    guess = int(input())\n",
    "    \n",
    "    if guess == secret_number:\n",
    "        print(\"Congratulations!!! You guessed right!!!\")\n",
    "        break\n",
    "    elif guess > secret_number:\n",
    "        print(\"Oops, high!!! Guess a lower number\")\n",
    "    else:\n",
    "        print(\"Oops, low!!! Guess a higher number\")"
   ]
  },
  {
   "cell_type": "markdown",
   "id": "d5c1057d-24eb-4805-84aa-8ea93ea90139",
   "metadata": {},
   "source": []
  },
  {
   "cell_type": "code",
   "execution_count": null,
   "id": "cbc074e4-ac9b-440a-b397-95ef916ea998",
   "metadata": {},
   "outputs": [],
   "source": []
  },
  {
   "cell_type": "markdown",
   "id": "0b7d0bc3-c359-4aab-b40b-196ce03fa325",
   "metadata": {},
   "source": [
    "## Game on, Let's Play v5\n",
    "# Create Number of Attempts"
   ]
  },
  {
   "cell_type": "code",
   "execution_count": 45,
   "id": "1e33ecb7-b3f1-4190-81bc-00e7e7831a2f",
   "metadata": {},
   "outputs": [
    {
     "name": "stdout",
     "output_type": "stream",
     "text": [
      "\n",
      "===== Guess the Number Game =====\n",
      "\n",
      "I'm thinking of a number between 1 - 10\n",
      "\n",
      "Try guess the number\n",
      "\n",
      "You have 3 attempts\n",
      "\n"
     ]
    },
    {
     "name": "stdin",
     "output_type": "stream",
     "text": [
      " 7\n"
     ]
    },
    {
     "name": "stdout",
     "output_type": "stream",
     "text": [
      "\n",
      "Oops, low!!! Guess a higher number. Attempts left = 2\n",
      "\n"
     ]
    },
    {
     "name": "stdin",
     "output_type": "stream",
     "text": [
      " 9\n"
     ]
    },
    {
     "name": "stdout",
     "output_type": "stream",
     "text": [
      "\n",
      "Oops, high!!! Guess a lower number. Attempts left = 1\n",
      "\n"
     ]
    },
    {
     "name": "stdin",
     "output_type": "stream",
     "text": [
      " 6\n"
     ]
    },
    {
     "name": "stdout",
     "output_type": "stream",
     "text": [
      "\n",
      "Oops, low!!! Guess a higher number. Attempts left = 0\n",
      "Sorry, Game Over You have exhausted your attempts\n",
      "The secret number is: 8\n",
      "Better luck next time\n"
     ]
    }
   ],
   "source": [
    "print(\"\\n===== Guess the Number Game =====\")\n",
    "print(\"\\nI'm thinking of a number between 1 - 10\")\n",
    "print(\"\\nTry guess the number\")\n",
    "print(\"\\nYou have 3 attempts\")\n",
    "secret_number = random.randint(1, 10)\n",
    "\n",
    "\n",
    "\n",
    "\n",
    "for attempt in range(1, 4):\n",
    "    print()\n",
    "    guess = int(input())\n",
    "    \n",
    "    if guess == secret_number:\n",
    "        print(\"Congratulations!!! You guessed right!!!\")\n",
    "        break\n",
    "    elif guess > secret_number:\n",
    "        print(\"\\nOops, high!!! Guess a lower number. Attempts left =\", 3 - attempt)\n",
    "    else:\n",
    "        print(\"\\nOops, low!!! Guess a higher number. Attempts left =\", 3 - attempt)\n",
    "\n",
    "print(\"Sorry, Game Over\", \"You have exhausted your attempts\")\n",
    "print(\"The secret number is:\", secret_number)\n",
    "print(\"Better luck next time\")"
   ]
  },
  {
   "cell_type": "code",
   "execution_count": null,
   "id": "6c1886f3-bdaa-482b-a7a0-646f6b09f0ff",
   "metadata": {},
   "outputs": [],
   "source": []
  },
  {
   "cell_type": "code",
   "execution_count": null,
   "id": "73d8b0db-14e2-4e86-bc28-fb704201306c",
   "metadata": {},
   "outputs": [],
   "source": []
  },
  {
   "cell_type": "markdown",
   "id": "4adb7b27-c71f-46a9-b592-16d376e0ad42",
   "metadata": {},
   "source": [
    "## Game on, Let's Play v6"
   ]
  },
  {
   "cell_type": "code",
   "execution_count": 78,
   "id": "73c10bb7-4763-450a-8e50-11f8cd360210",
   "metadata": {},
   "outputs": [],
   "source": [
    "def guess_the_number():\n",
    "\n",
    "\n",
    "    print(\"\\n===== Guess the Number Game =====\")\n",
    "    print(\"\\nI'm thinking of a number between 1 - 10\")\n",
    "    print(\"\\nTry guess the number\")\n",
    "    print(\"\\nYou have 3 attempts\")\n",
    "    secret_number = random.randint(1, 10)\n",
    "    \n",
    "    \n",
    "    \n",
    "    \n",
    "    for attempt in range(1, 4):\n",
    "        print()\n",
    "        guess = int(input())\n",
    "        \n",
    "        if guess == secret_number:\n",
    "            print(\"Congratulations!!! You guessed right!!!\")\n",
    "            return\n",
    "        elif guess > secret_number:\n",
    "            print(\"\\nOops, high!!! Guess a lower number. Attempts left =\", 3 - attempt)\n",
    "        else:\n",
    "            print(\"\\nOops, low!!! Guess a higher number. Attempts left =\", 3 - attempt)\n",
    "    \n",
    "    print(\"Sorry, Game Over\", \"You have exhausted your attempts\")\n",
    "    print(\"The secret number is:\", secret_number)\n",
    "    print(\"Better luck next time\")"
   ]
  },
  {
   "cell_type": "code",
   "execution_count": 80,
   "id": "27e1b9cb-07b4-4016-be13-357829e2dfae",
   "metadata": {},
   "outputs": [
    {
     "name": "stdout",
     "output_type": "stream",
     "text": [
      "\n",
      "===== Guess the Number Game =====\n",
      "\n",
      "I'm thinking of a number between 1 - 10\n",
      "\n",
      "Try guess the number\n",
      "\n",
      "You have 3 attempts\n",
      "\n"
     ]
    },
    {
     "name": "stdin",
     "output_type": "stream",
     "text": [
      " 10\n"
     ]
    },
    {
     "name": "stdout",
     "output_type": "stream",
     "text": [
      "\n",
      "Oops, high!!! Guess a lower number. Attempts left = 2\n",
      "\n"
     ]
    },
    {
     "name": "stdin",
     "output_type": "stream",
     "text": [
      " 7\n"
     ]
    },
    {
     "name": "stdout",
     "output_type": "stream",
     "text": [
      "\n",
      "Oops, high!!! Guess a lower number. Attempts left = 1\n",
      "\n"
     ]
    },
    {
     "name": "stdin",
     "output_type": "stream",
     "text": [
      " 3\n"
     ]
    },
    {
     "name": "stdout",
     "output_type": "stream",
     "text": [
      "\n",
      "Oops, low!!! Guess a higher number. Attempts left = 0\n",
      "Sorry, Game Over You have exhausted your attempts\n",
      "The secret number is: 6\n",
      "Better luck next time\n"
     ]
    }
   ],
   "source": [
    "guess_the_number()"
   ]
  },
  {
   "cell_type": "code",
   "execution_count": null,
   "id": "3b9e0f1d-2e2d-416a-ad63-53678e95cf53",
   "metadata": {},
   "outputs": [],
   "source": []
  }
 ],
 "metadata": {
  "kernelspec": {
   "display_name": "Python 3 (ipykernel)",
   "language": "python",
   "name": "python3"
  },
  "language_info": {
   "codemirror_mode": {
    "name": "ipython",
    "version": 3
   },
   "file_extension": ".py",
   "mimetype": "text/x-python",
   "name": "python",
   "nbconvert_exporter": "python",
   "pygments_lexer": "ipython3",
   "version": "3.11.7"
  }
 },
 "nbformat": 4,
 "nbformat_minor": 5
}
